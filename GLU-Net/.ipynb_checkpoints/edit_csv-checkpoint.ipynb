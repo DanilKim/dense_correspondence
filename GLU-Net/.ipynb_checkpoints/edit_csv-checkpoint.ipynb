{
 "cells": [
  {
   "cell_type": "code",
   "execution_count": 1,
   "metadata": {},
   "outputs": [
    {
     "name": "stdout",
     "output_type": "stream",
     "text": [
      "True\n"
     ]
    }
   ],
   "source": [
    "import pandas as pd"
   ]
  },
  {
   "cell_type": "code",
   "execution_count": 2,
   "metadata": {},
   "outputs": [],
   "source": [
    "DCA_test_csv = pd.read_csv('datasets/csv_files/homo_aff_tps_test_DPED_CityScape_ADE.csv')\n",
    "DCA_train_csv = pd.read_csv('datasets/csv_files/homo_aff_tps_train_DPED_CityScape_ADE.csv')\n",
    "\n"
   ]
  },
  {
   "cell_type": "code",
   "execution_count": 6,
   "metadata": {},
   "outputs": [
    {
     "data": {
      "text/plain": [
       "Index(['fname', 'aff/tps/homo', 't1(A11/H11)', 't2(A12/H12)', 't3(A13/H13)',\n",
       "       't4(A21/H21)', 't5(A22/H22)', 't6(A23/H23)', 't7(H31)', 't8(H32)',\n",
       "       't9(H33)', 't10', 't11', 't12', 't13', 't14', 't15', 't16', 't17',\n",
       "       't18'],\n",
       "      dtype='object')"
      ]
     },
     "execution_count": 6,
     "metadata": {},
     "output_type": "execute_result"
    }
   ],
   "source": [
    "DCA_test_csv.keys()\n"
   ]
  },
  {
   "cell_type": "code",
   "execution_count": 11,
   "metadata": {},
   "outputs": [
    {
     "data": {
      "text/plain": [
       "2"
      ]
     },
     "execution_count": 11,
     "metadata": {},
     "output_type": "execute_result"
    }
   ],
   "source": [
    "DCA_test_csv['aff/tps/homo'][1]\n"
   ]
  },
  {
   "cell_type": "code",
   "execution_count": null,
   "metadata": {},
   "outputs": [],
   "source": []
  }
 ],
 "metadata": {
  "kernelspec": {
   "display_name": "Python [conda env:GLUNet] *",
   "language": "python",
   "name": "conda-env-GLUNet-py"
  },
  "language_info": {
   "codemirror_mode": {
    "name": "ipython",
    "version": 3
   },
   "file_extension": ".py",
   "mimetype": "text/x-python",
   "name": "python",
   "nbconvert_exporter": "python",
   "pygments_lexer": "ipython3",
   "version": "3.7.7"
  }
 },
 "nbformat": 4,
 "nbformat_minor": 4
}
