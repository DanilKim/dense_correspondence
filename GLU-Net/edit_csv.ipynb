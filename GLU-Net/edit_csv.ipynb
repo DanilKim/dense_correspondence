{
 "cells": [
  {
   "cell_type": "code",
   "execution_count": 1,
   "metadata": {},
   "outputs": [],
   "source": [
    "import pandas as pd\n",
    "import os\n",
    "from sklearn.model_selection import train_test_split"
   ]
  },
  {
   "cell_type": "code",
   "execution_count": 2,
   "metadata": {},
   "outputs": [
    {
     "name": "stdout",
     "output_type": "stream",
     "text": [
      "                                                  fname  aff/tps/homo  \\\n",
      "0     CityScape/val/frankfurt/frankfurt_000000_02088...             2   \n",
      "1     CityScape/val/frankfurt/frankfurt_000001_05173...             2   \n",
      "2     CityScape/val/frankfurt/frankfurt_000000_00658...             1   \n",
      "3     CityScape/val/frankfurt/frankfurt_000001_00251...             2   \n",
      "4     CityScape/val/frankfurt/frankfurt_000001_03271...             2   \n",
      "...                                                 ...           ...   \n",
      "1744  ADE20K_2016_07_26/images/validation/y/youth_ho...             2   \n",
      "1745  ADE20K_2016_07_26/images/validation/y/youth_ho...             1   \n",
      "1746  ADE20K_2016_07_26/images/validation/y/youth_ho...             2   \n",
      "1747  ADE20K_2016_07_26/images/validation/z/zen_gard...             2   \n",
      "1748  ADE20K_2016_07_26/images/validation/z/zoo/ADE_...             1   \n",
      "\n",
      "      t1(A11/H11)  t2(A12/H12)  t3(A13/H13)  t4(A21/H21)  t5(A22/H22)  \\\n",
      "0       -7.432984    -3.471694  1892.240933    -2.118954    -8.510522   \n",
      "1        8.349436     9.092107 -2472.265693    -0.418203    15.727012   \n",
      "2       -0.953538    -1.128360    -0.867291    -0.221012     0.238435   \n",
      "3        2.452148     0.352488   -96.068357     1.421627     2.826039   \n",
      "4        2.059387     0.212296  -134.544064    -0.609190     2.752114   \n",
      "...           ...          ...          ...          ...          ...   \n",
      "1744     1.061781    -0.299904    -1.080936    -0.383287     0.530394   \n",
      "1745    -1.336701    -0.760225    -0.839124     0.161220    -0.389527   \n",
      "1746     1.122663     0.643756  -195.422829     0.083196     1.640448   \n",
      "1747     0.682179    -0.591054   143.429236     0.200087     0.078302   \n",
      "1748    -1.155287    -1.020126    -1.363946     0.242396     0.109840   \n",
      "\n",
      "      t6(A23/H23)   t7(H31)   t8(H32)   t9(H33)       t10       t11       t12  \\\n",
      "0     1629.991724 -0.007973 -0.010258  1.000000  0.000000  0.000000  0.000000   \n",
      "1    -1234.435192  0.001002  0.024648  1.000000  0.000000  0.000000  0.000000   \n",
      "2        0.085582  0.992418  0.997863  1.004004 -1.263884  0.035676  1.057717   \n",
      "3     -605.135144  0.002402  0.001319  1.000000  0.000000  0.000000  0.000000   \n",
      "4       40.013779  0.000848  0.002171  1.000000  0.000000  0.000000  0.000000   \n",
      "...           ...       ...       ...       ...       ...       ...       ...   \n",
      "1744   226.679807 -0.000187 -0.000358  1.000000  0.000000  0.000000  0.000000   \n",
      "1745    -0.142177  0.756355  1.334818  1.018856 -0.730197  0.222746  1.155217   \n",
      "1746  -147.748052 -0.000448  0.000944  1.000000  0.000000  0.000000  0.000000   \n",
      "1747    59.209361  0.000381 -0.001835  1.000000  0.000000  0.000000  0.000000   \n",
      "1748    -0.137840  1.054037  0.626908  1.040412 -0.928570  0.058056  1.056940   \n",
      "\n",
      "           t13       t14       t15       t16       t17       t18  \n",
      "0     0.000000  0.000000  0.000000  0.000000  0.000000  0.000000  \n",
      "1     0.000000  0.000000  0.000000  0.000000  0.000000  0.000000  \n",
      "2    -0.854407  0.097262  1.097276 -0.788042  0.238469  0.677378  \n",
      "3     0.000000  0.000000  0.000000  0.000000  0.000000  0.000000  \n",
      "4     0.000000  0.000000  0.000000  0.000000  0.000000  0.000000  \n",
      "...        ...       ...       ...       ...       ...       ...  \n",
      "1744  0.000000  0.000000  0.000000  0.000000  0.000000  0.000000  \n",
      "1745 -1.085912  0.366438  0.668617 -1.324836  0.263944  0.830404  \n",
      "1746  0.000000  0.000000  0.000000  0.000000  0.000000  0.000000  \n",
      "1747  0.000000  0.000000  0.000000  0.000000  0.000000  0.000000  \n",
      "1748 -1.242669 -0.002335  0.722691 -0.891224 -0.030987  0.966592  \n",
      "\n",
      "[1749 rows x 20 columns]\n"
     ]
    }
   ],
   "source": [
    "DCA_test_csv = pd.read_csv('datasets/csv_files/homo_aff_tps_test_DPED_CityScape_ADE.csv')\n",
    "DCA_train_csv = pd.read_csv('datasets/csv_files/homo_aff_tps_train_DPED_CityScape_ADE.csv')\n",
    "print(DCA_test_csv)"
   ]
  },
  {
   "cell_type": "code",
   "execution_count": 3,
   "metadata": {},
   "outputs": [],
   "source": [
    "path = '../sintel/extracted_pairs/clean/all'\n",
    "ratio = 0.95\n",
    "\n",
    "sum_of_path = []\n",
    "for scene_list in os.listdir(path):\n",
    "    grand_parent_dir = os.path.join(os.path.join(path, scene_list))\n",
    "    for start_list in os.listdir(grand_parent_dir): \n",
    "        parent_dir = os.path.join(grand_parent_dir, start_list)\n",
    "        for end_list in os.listdir(parent_dir):\n",
    "            sum_of_path.append(os.path.join(scene_list, start_list, end_list, 'target.png'))\n",
    "sum_list = list(set(sum_of_path))\n",
    "training_dir, evaluation_dir = train_test_split(sum_list, train_size = ratio)"
   ]
  },
  {
   "cell_type": "code",
   "execution_count": 6,
   "metadata": {},
   "outputs": [
    {
     "name": "stdout",
     "output_type": "stream",
     "text": [
      "20980 1105\n"
     ]
    }
   ],
   "source": [
    "print(len(training_dir), len(evaluation_dir))"
   ]
  },
  {
   "cell_type": "code",
   "execution_count": 8,
   "metadata": {},
   "outputs": [
    {
     "name": "stderr",
     "output_type": "stream",
     "text": [
      "/home/daniel/anaconda2/envs/GLUNet/lib/python3.7/site-packages/ipykernel_launcher.py:1: SettingWithCopyWarning: \n",
      "A value is trying to be set on a copy of a slice from a DataFrame\n",
      "\n",
      "See the caveats in the documentation: https://pandas.pydata.org/pandas-docs/stable/user_guide/indexing.html#returning-a-view-versus-a-copy\n",
      "  \"\"\"Entry point for launching an IPython kernel.\n",
      "/home/daniel/anaconda2/envs/GLUNet/lib/python3.7/site-packages/ipykernel_launcher.py:2: SettingWithCopyWarning: \n",
      "A value is trying to be set on a copy of a slice from a DataFrame\n",
      "\n",
      "See the caveats in the documentation: https://pandas.pydata.org/pandas-docs/stable/user_guide/indexing.html#returning-a-view-versus-a-copy\n",
      "  \n"
     ]
    }
   ],
   "source": [
    "DCA_train_csv['fname'][:len(training_dir)] = training_dir\n",
    "DCA_train_csv['fname'][len(training_dir):len(sum_list)] = evaluation_dir\n",
    "\n",
    "Sin_train_csv = DCA_train_csv.iloc[:len(training_dir)].set_index('fname')\n",
    "Sin_val_csv = DCA_train_csv.iloc[len(training_dir):len(sum_list)].set_index('fname')"
   ]
  },
  {
   "cell_type": "code",
   "execution_count": 9,
   "metadata": {},
   "outputs": [],
   "source": [
    "Sin_train_csv.to_csv('datasets/csv_files/homo_aff_tps_train_Sintel.csv')\n",
    "Sin_val_csv.to_csv('datasets/csv_files/homo_aff_tps_val_Sintel.csv')"
   ]
  },
  {
   "cell_type": "code",
   "execution_count": 10,
   "metadata": {},
   "outputs": [],
   "source": [
    "check_save_train = pd.read_csv('datasets/csv_files/homo_aff_tps_train_Sintel.csv')\n",
    "check_save_val = pd.read_csv('datasets/csv_files/homo_aff_tps_val_Sintel.csv')"
   ]
  },
  {
   "cell_type": "code",
   "execution_count": null,
   "metadata": {},
   "outputs": [],
   "source": []
  }
 ],
 "metadata": {
  "kernelspec": {
   "display_name": "Python [conda env:GLUNet] *",
   "language": "python",
   "name": "conda-env-GLUNet-py"
  },
  "language_info": {
   "codemirror_mode": {
    "name": "ipython",
    "version": 3
   },
   "file_extension": ".py",
   "mimetype": "text/x-python",
   "name": "python",
   "nbconvert_exporter": "python",
   "pygments_lexer": "ipython3",
   "version": "3.7.7"
  }
 },
 "nbformat": 4,
 "nbformat_minor": 4
}
